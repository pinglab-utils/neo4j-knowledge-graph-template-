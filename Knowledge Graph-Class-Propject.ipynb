{
 "cells": [
  {
   "cell_type": "code",
   "execution_count": null,
   "metadata": {},
   "outputs": [],
   "source": [
    "#! pip install neo4j"
   ]
  },
  {
   "cell_type": "markdown",
   "metadata": {},
   "source": [
    "# Creating a knowledge graph in neo4j \n",
    "\n",
    "Here we provide a sample notebook for KG construction with hypothetical graph data where there are 3 typrs of nodes and one relationship. Following are the general steps for KG set up for personal PC:"
   ]
  },
  {
   "attachments": {},
   "cell_type": "markdown",
   "metadata": {},
   "source": [
    "- First download and install the neo4j Desktop on your computer.\n",
    "- Create a new project.\n",
    "- Click on ```ADD``` tab right to the project and add local DBMS. Make sure your user and passwords are noted for future access.\n",
    "- Install ```apoc``` library through plugin.\n",
    "- Open config folder and put provided ```neo4j.config``` and ```apoc.config```.\n",
    "    \ta. Click on the 3 dots on the right of the graph DBMS.\n",
    "\t\tb. Click open\n",
    "\t\tc. Click configuration\n",
    "\t\td. Copy and paste provided neo4j.config and apoc.config there.\n",
    "- Start the graph database\n",
    "- Click open tab of the DBMS to open neo4j Browser.\n",
    "- Install ```anaconda``` python and run ```Jupyter application```\n",
    "- Use this notebook to communicate with graph database"
   ]
  },
  {
   "cell_type": "code",
   "execution_count": 1,
   "metadata": {},
   "outputs": [],
   "source": [
    "import pandas as pd\n",
    "import json\n",
    "import time\n",
    "from neo4j import GraphDatabase"
   ]
  },
  {
   "cell_type": "markdown",
   "metadata": {},
   "source": [
    "#### Make a connection with Graph Database"
   ]
  },
  {
   "cell_type": "code",
   "execution_count": 2,
   "metadata": {},
   "outputs": [],
   "source": [
    "import pandas as pd\n",
    "from neo4j import GraphDatabase\n",
    "driver=GraphDatabase.driver(uri=\"bolt://127.0.0.1:7687\",auth=(\"neo4j\",\"1234\"))\n",
    "session=driver.session()"
   ]
  },
  {
   "cell_type": "code",
   "execution_count": 3,
   "metadata": {},
   "outputs": [
    {
     "data": {
      "text/plain": [
       "<neo4j._sync.driver.BoltDriver at 0x7f8fd37807c0>"
      ]
     },
     "execution_count": 3,
     "metadata": {},
     "output_type": "execute_result"
    }
   ],
   "source": [
    "driver"
   ]
  },
  {
   "cell_type": "markdown",
   "metadata": {},
   "source": [
    "#### Create Constraints for uniqueness of nodes"
   ]
  },
  {
   "cell_type": "code",
   "execution_count": 4,
   "metadata": {},
   "outputs": [],
   "source": [
    "def create_constraints(driver):\n",
    "        query = [\"CREATE CONSTRAINT UniqueNode1IdConstraint FOR (n1:Node1) REQUIRE n1.nodeId IS UNIQUE\",\\\n",
    "                 \"CREATE CONSTRAINT UniqueNode2IdConstraint FOR (n2:Node2) REQUIRE n2.nodeId IS UNIQUE\",\\\n",
    "                 \"CREATE CONSTRAINT UniqueNode3IdConstraint FOR (n3:Node3) REQUIRE n3.nodeId IS UNIQUE\"]\n",
    "        with driver.session() as session:\n",
    "            for constraint in query:\n",
    "                session.run(constraint)"
   ]
  },
  {
   "cell_type": "code",
   "execution_count": 5,
   "metadata": {},
   "outputs": [],
   "source": [
    "'''UNCOMMENT AND RUN THIS CELL ONLY ONCE'''\n",
    "#create_constraints(driver)"
   ]
  },
  {
   "cell_type": "markdown",
   "metadata": {},
   "source": [
    "### Populate Node\n",
    "- There are three arbitrary node types\n",
    "- There are one edge types between nodes."
   ]
  },
  {
   "cell_type": "code",
   "execution_count": 6,
   "metadata": {},
   "outputs": [],
   "source": [
    "def create_node1(data):\n",
    "        def tx_function(tx,data):\n",
    "            query = \"WITH '\" + data  + \"' as url \\\n",
    "            CALL apoc.load.json(url) YIELD value \\\n",
    "            MERGE (n1:Node1{nodeId:value.nodeId})\\\n",
    "            ON CREATE SET n1.property1=value.property1,\\\n",
    "            n1.property2=value.property2,\\\n",
    "            n1.description=value.description\"\n",
    "            \n",
    "            #print(query)\n",
    "            tx.run(query,data=data)\n",
    "        \n",
    "        with driver.session() as session:   \n",
    "            session.execute_write(tx_function,data)\n",
    "            \n",
    "def create_node2(data):\n",
    "        def tx_function(tx,data):\n",
    "            query = \"WITH '\" + data  + \"' as url \\\n",
    "            CALL apoc.load.json(url) YIELD value \\\n",
    "            MERGE (n2:Node2{nodeId:value.nodeId})\\\n",
    "            ON CREATE SET n2.property1=value.property1,\\\n",
    "            n2.property2=value.property2,\\\n",
    "            n2.description=value.description\"\n",
    "            \n",
    "            #print(query)\n",
    "            tx.run(query,data=data)\n",
    "        \n",
    "        with driver.session() as session:   \n",
    "            session.execute_write(tx_function,data)\n",
    "            \n",
    "def create_node3(data):\n",
    "        def tx_function(tx,data):\n",
    "            query = \"WITH '\" + data  + \"' as url \\\n",
    "            CALL apoc.load.json(url) YIELD value \\\n",
    "            MERGE (n3:Node3{nodeId:value.nodeId})\\\n",
    "            ON CREATE SET n3.property1=value.property1,\\\n",
    "            n3.property2=value.property2,\\\n",
    "            n3.description=value.description\"\n",
    "            \n",
    "            #print(query)\n",
    "            tx.run(query,data=data)\n",
    "        \n",
    "        with driver.session() as session:   \n",
    "            session.execute_write(tx_function,data)"
   ]
  },
  {
   "cell_type": "code",
   "execution_count": 7,
   "metadata": {},
   "outputs": [
    {
     "name": "stdout",
     "output_type": "stream",
     "text": [
      "success! total time:  1.462674856185913\n"
     ]
    }
   ],
   "source": [
    "t1 = time.time()\n",
    "data = \"data/n1.json\"\n",
    "create_node1(data)\n",
    "t2 = time.time()\n",
    "print( \"success! total time: \", t2-t1)"
   ]
  },
  {
   "cell_type": "code",
   "execution_count": 8,
   "metadata": {},
   "outputs": [
    {
     "name": "stdout",
     "output_type": "stream",
     "text": [
      "success! total time:  1.2738971710205078\n"
     ]
    }
   ],
   "source": [
    "t1 = time.time()\n",
    "data = \"data/n2.json\"\n",
    "create_node2(data)\n",
    "t2 = time.time()\n",
    "print( \"success! total time: \", t2-t1)"
   ]
  },
  {
   "cell_type": "code",
   "execution_count": 9,
   "metadata": {},
   "outputs": [
    {
     "name": "stdout",
     "output_type": "stream",
     "text": [
      "success! total time:  0.2110300064086914\n"
     ]
    }
   ],
   "source": [
    "t1 = time.time()\n",
    "data = \"data/n3.json\"\n",
    "create_node3(data)\n",
    "t2 = time.time()\n",
    "print( \"success! total time: \", t2-t1)"
   ]
  },
  {
   "cell_type": "markdown",
   "metadata": {},
   "source": [
    "### Create Edges"
   ]
  },
  {
   "cell_type": "code",
   "execution_count": 10,
   "metadata": {},
   "outputs": [],
   "source": [
    "def create_edge(data):\n",
    "        def tx_function(tx,data):\n",
    "            query = \"WITH '\" + data  + \"' as url \\\n",
    "            CALL apoc.load.json(url) YIELD value \\\n",
    "            MATCH (na {nodeId:value.source_nodeId})\\\n",
    "            MATCH (nb {nodeId:value.target_nodeId})\\\n",
    "            MERGE (na)-[:HAS_RELATIONSHIP]->(nb)\"\n",
    "\n",
    "            tx.run(query,data=data)\n",
    "\n",
    "        with driver.session() as session:   \n",
    "            session.execute_write(tx_function,data)"
   ]
  },
  {
   "cell_type": "code",
   "execution_count": 11,
   "metadata": {},
   "outputs": [
    {
     "name": "stdout",
     "output_type": "stream",
     "text": [
      "success! total time:  1.1760571002960205\n"
     ]
    }
   ],
   "source": [
    "t1 = time.time()\n",
    "data = \"data/relation.json\"\n",
    "create_edge(data)\n",
    "t2 = time.time()\n",
    "print( \"success! total time: \", t2-t1)"
   ]
  },
  {
   "cell_type": "markdown",
   "metadata": {},
   "source": [
    "### Templet Data Preparation"
   ]
  },
  {
   "cell_type": "markdown",
   "metadata": {},
   "source": [
    "The code below are not necessary to your class project. These codes are to generate sample data to create arbitrary nodes and edges data to construct template knowledge graph."
   ]
  },
  {
   "cell_type": "code",
   "execution_count": null,
   "metadata": {},
   "outputs": [],
   "source": [
    "import random\n",
    "\n",
    "def get_node_detail():\n",
    "    string= 'a@b#c$d%^ef&g*hijklmnopqrstuvwxyz'\n",
    "\n",
    "    a_chr = string[random.randint(0,26)]\n",
    "    chrs = [string[random.randint(0,26)] for l in range(10)]\n",
    " \n",
    "    nodeId = \"\".join([string[random.randint(0,26)] for nl in range(random.randint(5,7))])\n",
    "    property1 = \"\".join([string[random.randint(0,26)] for nl in range(random.randint(5,7))])\n",
    "    property2 = \"\".join([string[random.randint(0,26)] for nl in range(random.randint(5,7))])\n",
    "\n",
    "    parap_list = [ \"\".join([string[random.randint(0,26)] \\\n",
    "                  for nl in range(random.randint(2,8))]) + \" \" \\\n",
    "                  for nw in range(100)]\n",
    "\n",
    "    paragraph = \"\".join(parap_list)\n",
    "    return nodeId, property1, property2, paragraph"
   ]
  },
  {
   "cell_type": "code",
   "execution_count": null,
   "metadata": {},
   "outputs": [],
   "source": [
    "nodeId, property1, property2, paragraph = get_node_detail()"
   ]
  },
  {
   "cell_type": "code",
   "execution_count": null,
   "metadata": {},
   "outputs": [],
   "source": [
    "nodeId"
   ]
  },
  {
   "cell_type": "code",
   "execution_count": null,
   "metadata": {},
   "outputs": [],
   "source": [
    "def node_generator(N):\n",
    "    data = []\n",
    "    for n in range(N):\n",
    "        nodeId, property1, property2, paragraph = get_node_detail()\n",
    "        data.append({\"nodeId\":nodeId,\\\n",
    "                    \"property1\": property1,\\\n",
    "                    \"property2\": property2,\\\n",
    "                    \"description\": paragraph})\n",
    "    return data"
   ]
  },
  {
   "cell_type": "code",
   "execution_count": null,
   "metadata": {},
   "outputs": [],
   "source": [
    "n1_dict = node_generator(100)\n",
    "n2_dict = node_generator(100)\n",
    "n3_dict = node_generator(100)"
   ]
  },
  {
   "cell_type": "code",
   "execution_count": null,
   "metadata": {},
   "outputs": [],
   "source": [
    "with open(\"data/n1.json\", \"w\")as f:\n",
    "    json.dump(n1_dict,f)\n",
    "with open(\"data/n2.json\", \"w\")as f:\n",
    "    json.dump(n1_dict,f)\n",
    "with open(\"data/n3.json\", \"w\")as f:\n",
    "    json.dump(n1_dict,f)"
   ]
  },
  {
   "cell_type": "code",
   "execution_count": null,
   "metadata": {},
   "outputs": [],
   "source": [
    "allnodes=[]\n",
    "for item in n1_dict:\n",
    "    allnodes.append({\"node_type\": \"Node1\", \"nodeId\": item['nodeId']})\n",
    "for item in n2_dict:\n",
    "    allnodes.append({\"node_type\": \"Node2\", \"nodeId\": item['nodeId']})\n",
    "for item in n3_dict:\n",
    "    allnodes.append({\"node_type\": \"Node3\", \"nodeId\": item['nodeId']})\n",
    "    "
   ]
  },
  {
   "cell_type": "code",
   "execution_count": null,
   "metadata": {},
   "outputs": [],
   "source": [
    "len(allnodes)"
   ]
  },
  {
   "cell_type": "code",
   "execution_count": null,
   "metadata": {},
   "outputs": [],
   "source": [
    "random.choice(allnodes)"
   ]
  },
  {
   "cell_type": "code",
   "execution_count": null,
   "metadata": {},
   "outputs": [],
   "source": [
    "relation =[]\n",
    "for e in range(500):\n",
    "    nodeA = random.choice(allnodes)\n",
    "    nodeB = random.choice(allnodes)\n",
    "    edge = \"HAS_RELATIONSHIP\"\n",
    "    \n",
    "    relation.append({\"source_nodeId\": nodeA[\"nodeId\"],\\\n",
    "                     \"source_type\": nodeA['node_type'],\\\n",
    "                     \"target_nodeId\": nodeB[\"nodeId\"],\\\n",
    "                     \"tareget_type\": nodeB['node_type'],\\\n",
    "                     \"relation\": edge})"
   ]
  },
  {
   "cell_type": "code",
   "execution_count": null,
   "metadata": {},
   "outputs": [],
   "source": [
    "len(relation)"
   ]
  },
  {
   "cell_type": "code",
   "execution_count": null,
   "metadata": {},
   "outputs": [],
   "source": [
    "#relation"
   ]
  },
  {
   "cell_type": "code",
   "execution_count": null,
   "metadata": {},
   "outputs": [],
   "source": [
    "with open(\"data/relation.json\", \"w\")as f:\n",
    "    json.dump(relation,f)"
   ]
  },
  {
   "cell_type": "markdown",
   "metadata": {},
   "source": [
    "### References"
   ]
  },
  {
   "cell_type": "markdown",
   "metadata": {},
   "source": [
    "https://neo4j.com/docs/cypher-cheat-sheet/current/"
   ]
  },
  {
   "cell_type": "code",
   "execution_count": null,
   "metadata": {},
   "outputs": [],
   "source": []
  }
 ],
 "metadata": {
  "kernelspec": {
   "display_name": "Python 3 (ipykernel)",
   "language": "python",
   "name": "python3"
  },
  "language_info": {
   "codemirror_mode": {
    "name": "ipython",
    "version": 3
   },
   "file_extension": ".py",
   "mimetype": "text/x-python",
   "name": "python",
   "nbconvert_exporter": "python",
   "pygments_lexer": "ipython3",
   "version": "3.9.13"
  }
 },
 "nbformat": 4,
 "nbformat_minor": 2
}
